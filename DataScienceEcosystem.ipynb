{
 "cells": [
  {
   "cell_type": "markdown",
   "id": "a54089e6-bd9e-425d-8bc5-98739f8d48c0",
   "metadata": {},
   "source": [
    "# Data Science Tools and Ecosystem"
   ]
  },
  {
   "cell_type": "markdown",
   "id": "d98f8230-d731-445e-a374-43aebb828e88",
   "metadata": {},
   "source": [
    "**In this notebook, Data Science Tools and Ecosystem are summarized**"
   ]
  },
  {
   "cell_type": "markdown",
   "id": "4e73d834-cce8-419a-89b6-2fa808d8532f",
   "metadata": {},
   "source": [
    "# In this notebook, Data Science Tools and Ecosystem are summarized\n",
    "\n",
    "### Some of the popular languages that Data Scientists use are:\n",
    "1. Python\n",
    "2. R\n",
    "3. SQL\n",
    "4. JULIA\n",
    "5. JAVASCRIPT"
   ]
  },
  {
   "cell_type": "markdown",
   "id": "4e977d30-cc2d-4ff1-abc0-35c7d9a54729",
   "metadata": {},
   "source": [
    "# Some of the commonly used libraries used by Data Scientists include:\n",
    "1. PANDAS\n",
    "2. NUMPY\n",
    "3. MATPLOTLIB\n",
    "4. SEABORN"
   ]
  },
  {
   "cell_type": "markdown",
   "id": "ad4e73bb-1f0c-479a-ba4b-c54e91cef666",
   "metadata": {},
   "source": [
    "# 6.Data Science tools\n",
    "\n",
    "|Data Science tools|\n",
    "|------------------|\n",
    "|MySQL|\n",
    "|Apache AirFlow|\n",
    "|PixieDust|"
   ]
  },
  {
   "cell_type": "markdown",
   "id": "50622850-2031-4a5c-b4d8-0967372129b0",
   "metadata": {},
   "source": [
    "### 7.Below are a few examples of evaluating arithmetic expressions in Python\n",
    "*/+-"
   ]
  },
  {
   "cell_type": "markdown",
   "id": "47573465-bf07-4a07-82d1-a4c3bd810c58",
   "metadata": {},
   "source": [
    " # 8.Create a code cell to multiply and add numbers"
   ]
  },
  {
   "cell_type": "code",
   "execution_count": 2,
   "id": "d6a1e59e-106c-4036-b5ff-ce7114c45379",
   "metadata": {},
   "outputs": [
    {
     "data": {
      "text/plain": [
       "17"
      ]
     },
     "execution_count": 2,
     "metadata": {},
     "output_type": "execute_result"
    }
   ],
   "source": [
    "# This a simple arithmetic expression to mutiply then add integers\n",
    "(3*4)+5"
   ]
  },
  {
   "cell_type": "markdown",
   "id": "1e9e7e4e-caca-48c1-9daa-a977d954cc87",
   "metadata": {},
   "source": [
    "# Exercise 9 - Create a code cell to convert minutes to hours"
   ]
  },
  {
   "cell_type": "code",
   "execution_count": 2,
   "id": "ef3d72d7-75bf-47b4-8fbb-9c513b3aaf32",
   "metadata": {},
   "outputs": [
    {
     "data": {
      "text/plain": [
       "3.3333333333333335"
      ]
     },
     "execution_count": 2,
     "metadata": {},
     "output_type": "execute_result"
    }
   ],
   "source": [
    "# his will convert 200 minutes to hours by diving by 60\n",
    "hr=60\n",
    "minute=200\n",
    "\n",
    "minute/hr"
   ]
  },
  {
   "cell_type": "markdown",
   "id": "784da7cf-92dd-4fcb-92c8-d307b5a9855b",
   "metadata": {},
   "source": [
    "# Exercise 10 - Insert a markdown cell to list Objectives\n",
    "\n",
    "**objectives**\n",
    "\n",
    "* Show popular languages that Data Scientists use\n",
    "* Show some Data Science tools\n",
    "* Create a code cell to multiply and add numbers\n",
    "* Create a code cell to convert minutes to hours\n",
    "* Show some of the commonly used libraries used by Data Scientists"
   ]
  },
  {
   "cell_type": "markdown",
   "id": "6336b099-1640-4cde-be11-5ced2b7d03cf",
   "metadata": {},
   "source": [
    "# Exercise 11 - Create a markdown cell to indicate the Author's name\n",
    "\n",
    "## BRYAN ALEXIS SERRANO MEZA"
   ]
  },
  {
   "cell_type": "code",
   "execution_count": null,
   "id": "9a7c5e75-57ca-49b9-8c5a-905a26ee98f3",
   "metadata": {},
   "outputs": [],
   "source": []
  }
 ],
 "metadata": {
  "kernelspec": {
   "display_name": "Python 3 (ipykernel)",
   "language": "python",
   "name": "python3"
  },
  "language_info": {
   "codemirror_mode": {
    "name": "ipython",
    "version": 3
   },
   "file_extension": ".py",
   "mimetype": "text/x-python",
   "name": "python",
   "nbconvert_exporter": "python",
   "pygments_lexer": "ipython3",
   "version": "3.10.9"
  }
 },
 "nbformat": 4,
 "nbformat_minor": 5
}
